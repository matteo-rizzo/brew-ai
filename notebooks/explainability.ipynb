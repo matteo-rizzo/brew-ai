{
 "cells": [
  {
   "metadata": {},
   "cell_type": "code",
   "outputs": [],
   "execution_count": null,
   "source": [
    "import os.path\n",
    "\n",
    "from src.classes.data.DataPreprocessor import DataPreprocessor\n",
    "from src.classes.data.DataSplitter import DataSplitter\n",
    "from src.classes.data.DatasetLoader import DatasetLoader\n",
    "from src.classes.evaluation.periodicity.ModelFactory import ModelFactory\n",
    "from src.classes.utils.Logger import Logger\n",
    "from src.classes.utils.PeriodicityDetector import PeriodicityDetector\n",
    "from src.config import DATASET_ID, CLASSIFICATION, MODEL\n",
    "\n",
    "PATH_TO_MODEL = os.path.join(\"..\", \"results\", \"benchmark_num_reg\")\n",
    "\n",
    "logger = Logger()"
   ],
   "id": "1de723a409931216"
  },
  {
   "metadata": {},
   "cell_type": "code",
   "outputs": [],
   "execution_count": null,
   "source": [
    "x, y = DatasetLoader().load_dataset(DATASET_ID)\n",
    "\n",
    "dataset_config = DatasetLoader().get_dataset_config(DATASET_ID)\n",
    "\n",
    "cat_cols = dataset_config[\"cat_cols\"]\n",
    "numerical_columns = [col for col in x.columns if col not in cat_cols]\n",
    "categorical_columns = [col for col in x.columns if col in cat_cols]\n",
    "\n",
    "ordered_columns = numerical_columns + categorical_columns\n",
    "x = x[ordered_columns]"
   ],
   "id": "99f3bfe4126fab75"
  },
  {
   "metadata": {},
   "cell_type": "code",
   "outputs": [],
   "execution_count": null,
   "source": [
    "x_num_cols = [col for col in numerical_columns if col != 'month']\n",
    "idx_periodic, idx_non_periodic = [], []\n",
    "\n",
    "logger.info(f\"Analyzing periodicity for {len(x_num_cols)} numerical features.\")\n",
    "for column in x_num_cols:\n",
    "    series = x[column].values\n",
    "    if PeriodicityDetector().detect_periodicity_acf(series):\n",
    "        logger.debug(f\"Feature '{column}' detected as periodic.\")\n",
    "        idx_periodic.append(x.columns.get_loc(column))\n",
    "    else:\n",
    "        logger.debug(f\"Feature '{column}' detected as non-periodic.\")\n",
    "        idx_non_periodic.append(x.columns.get_loc(column))"
   ],
   "id": "f9702036b8661082"
  },
  {
   "metadata": {},
   "cell_type": "code",
   "outputs": [],
   "execution_count": null,
   "source": [
    "idx_num = [x.columns.get_loc(col) for col in numerical_columns]\n",
    "idx_cat = [x.columns.get_loc(col) for col in categorical_columns]"
   ],
   "id": "9220392b08fad43c"
  },
  {
   "metadata": {},
   "cell_type": "code",
   "outputs": [],
   "execution_count": null,
   "source": [
    "preprocessor = DataPreprocessor(x, y, cat_cols)\n",
    "x_original_shape = x.shape\n",
    "x = preprocessor.make_preprocessor().fit_transform(x)\n",
    "if CLASSIFICATION:\n",
    "    y = preprocessor.encode_target()"
   ],
   "id": "4cb9263750fb322c"
  },
  {
   "cell_type": "code",
   "execution_count": null,
   "id": "initial_id",
   "metadata": {
    "collapsed": true
   },
   "outputs": [],
   "source": [
    "import torch\n",
    "\n",
    "data_splitter = DataSplitter(x, y, idx_num, idx_cat, idx_periodic, idx_non_periodic)\n",
    "split_data = data_splitter.split()\n",
    "\n",
    "input_sizes = split_data['input_sizes']\n",
    "output_size = y.nunique() if CLASSIFICATION else 1\n",
    "\n",
    "model_factory = ModelFactory(\n",
    "    num_periodic_input_size=input_sizes['num_periodic_input_size'],\n",
    "    num_non_periodic_input_size=input_sizes['num_non_periodic_input_size'],\n",
    "    cat_input_size=input_sizes['cat_input_size'],\n",
    "    output_size=output_size,\n",
    "    dataset_config=dataset_config\n",
    ")\n",
    "model = model_factory.get_model(MODEL)\n",
    "model.load_state_dict(torch.load(PATH_TO_MODEL))"
   ]
  }
 ],
 "metadata": {
  "kernelspec": {
   "display_name": "Python 3",
   "language": "python",
   "name": "python3"
  },
  "language_info": {
   "codemirror_mode": {
    "name": "ipython",
    "version": 2
   },
   "file_extension": ".py",
   "mimetype": "text/x-python",
   "name": "python",
   "nbconvert_exporter": "python",
   "pygments_lexer": "ipython2",
   "version": "2.7.6"
  }
 },
 "nbformat": 4,
 "nbformat_minor": 5
}
